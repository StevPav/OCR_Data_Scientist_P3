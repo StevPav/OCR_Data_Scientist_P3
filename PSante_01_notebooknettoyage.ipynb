{
 "cells": [
  {
   "cell_type": "code",
   "execution_count": 1,
   "metadata": {},
   "outputs": [],
   "source": [
    "# Import des librairies nécessaires\n",
    "import pandas as pd\n",
    "import seaborn as sns\n",
    "import matplotlib.pyplot as plt\n",
    "import numpy as np\n",
    "import plotly"
   ]
  },
  {
   "cell_type": "markdown",
   "metadata": {},
   "source": [
    "# Chargement et nettoyage du dataset"
   ]
  },
  {
   "cell_type": "markdown",
   "metadata": {},
   "source": [
    "Le dataset étant lourd, il est chargé en chunk pour faciliter l'utilisation de la mémoire.\n",
    "On ne garde que les colonnes avec un taux de valeurs manquantes inférieur à 70%"
   ]
  },
  {
   "cell_type": "code",
   "execution_count": 2,
   "metadata": {},
   "outputs": [
    {
     "name": "stderr",
     "output_type": "stream",
     "text": [
      "C:\\Users\\BENAVEN\\anaconda3\\lib\\site-packages\\IPython\\core\\interactiveshell.py:3146: DtypeWarning: Columns (0) have mixed types.Specify dtype option on import or set low_memory=False.\n",
      "  has_raised = await self.run_ast_nodes(code_ast.body, cell_name,\n"
     ]
    }
   ],
   "source": [
    "# nombre de lignes à charger en même temps en mémoire\n",
    "chunksize = 10 ** 4\n",
    "filename = 'en.openfoodfacts.org.products.csv'\n",
    "nan_rates = []\n",
    "for chunk in pd.read_csv(filename, chunksize=chunksize, sep='\\t', low_memory=False):\n",
    "    nan_rates.append(chunk.isna().mean(axis=0))\n",
    "# moyenne des taux de remplissage des chunks\n",
    "inds_nan_rate = pd.concat(nan_rates, axis=1).mean(axis=1)\n",
    "cols_to_load = inds_nan_rate[inds_nan_rate < 0.7].index.tolist()\n",
    "df = pd.read_csv(filename, sep='\\t', usecols=cols_to_load)"
   ]
  },
  {
   "cell_type": "code",
   "execution_count": 3,
   "metadata": {},
   "outputs": [
    {
     "data": {
      "text/plain": [
       "1729208"
      ]
     },
     "execution_count": 3,
     "metadata": {},
     "output_type": "execute_result"
    }
   ],
   "source": [
    "len1=len(df)\n",
    "len1"
   ]
  },
  {
   "cell_type": "markdown",
   "metadata": {},
   "source": [
    "Le nutriscore est basé sur les valeurs nutritionnelles.\n",
    "Calcul du taux de valeurs manquantes parmi les valeurs nutritionnelles par individu"
   ]
  },
  {
   "cell_type": "code",
   "execution_count": 4,
   "metadata": {},
   "outputs": [
    {
     "data": {
      "image/png": "[encoded data removed]",
      "text/plain": [
       "<Figure size 576x360 with 1 Axes>"
      ]
     },
     "metadata": {
      "needs_background": "light"
     },
     "output_type": "display_data"
    }
   ],
   "source": [
    "#calcul du taux de NaN par lignes pour les 10 valeurs nutritionelles\n",
    "dict_nan={}\n",
    "for i in np.linspace(0,1,11):\n",
    "    nan_i=(df[df.columns[df.columns.str.contains('_100g')]].isna().mean(axis=1)==i).sum()\n",
    "    dict_nan[round(i,1)]=nan_i\n",
    "pd.DataFrame.from_dict(dict_nan, orient='index').plot.bar(title=\"Documentation des valeurs nutritionnelles\",figsize=(8,5), legend = False, xlabel = 'taux de valeurs nutritionnelles manquantes', ylabel= \"Nb d'individus\", fontsize = 9);"
   ]
  },
  {
   "cell_type": "code",
   "execution_count": 5,
   "metadata": {},
   "outputs": [],
   "source": [
    "#les individus ayant des taux de NaN faibles sont regroupés vers 0, 0.1, 0.2. Les autres individus sont supprimés\n",
    "df=df[df[df.columns[df.columns.str.contains('_100g')]].isna().mean(axis=1)<=0.2]"
   ]
  },
  {
   "cell_type": "code",
   "execution_count": 6,
   "metadata": {},
   "outputs": [
    {
     "data": {
      "text/plain": [
       "442715"
      ]
     },
     "execution_count": 6,
     "metadata": {},
     "output_type": "execute_result"
    }
   ],
   "source": [
    "len2=len(df)\n",
    "len1-len2"
   ]
  },
  {
   "cell_type": "markdown",
   "metadata": {},
   "source": [
    "Identification et suppression des doublons"
   ]
  },
  {
   "cell_type": "code",
   "execution_count": 7,
   "metadata": {},
   "outputs": [
    {
     "data": {
      "text/plain": [
       "330"
      ]
     },
     "execution_count": 7,
     "metadata": {},
     "output_type": "execute_result"
    }
   ],
   "source": [
    "# Nombre de doublons\n",
    "df.duplicated('code',keep=False).sum()"
   ]
  },
  {
   "cell_type": "code",
   "execution_count": 8,
   "metadata": {},
   "outputs": [],
   "source": [
    "# identification des doublons et de la ligne la mieux documentéé pour chaque ID puis suppression des doublons\n",
    "df_duplicates=df[df.duplicated('code',keep=False)].sort_values('code')\n",
    "idx_to_keep=[]\n",
    "for code in df_duplicates['code'].unique():\n",
    "    idxmin=df_duplicates[df_duplicates['code']==code].isna().mean(axis=1).idxmin()\n",
    "    idx_to_keep.append(idxmin)\n",
    "idx_to_drop=[idx for idx in df_duplicates.index.tolist() if idx not in idx_to_keep]\n",
    "df_clean=df.drop(labels=idx_to_drop)"
   ]
  },
  {
   "cell_type": "code",
   "execution_count": 9,
   "metadata": {},
   "outputs": [
    {
     "data": {
      "text/plain": [
       "0"
      ]
     },
     "execution_count": 9,
     "metadata": {},
     "output_type": "execute_result"
    }
   ],
   "source": [
    "df_clean.duplicated('code',keep=False).sum()"
   ]
  },
  {
   "cell_type": "markdown",
   "metadata": {},
   "source": [
    "Suppression des colonnes inutiles pour l'analyse"
   ]
  },
  {
   "cell_type": "code",
   "execution_count": 10,
   "metadata": {},
   "outputs": [],
   "source": [
    "col_to_remove=df.columns[df.columns.str.contains('url|_tags|_en')]\n",
    "col_to_remove_bis=['created_t','created_datetime','last_modified_t','last_modified_datetime','creator','code','categories','ingredients_text',\n",
    "                   'ingredients_that_may_be_from_palm_oil_n','main_category','nutrition-score-fr_100g','states','additives_n','ingredients_from_palm_oil_n']"
   ]
  },
  {
   "cell_type": "code",
   "execution_count": 11,
   "metadata": {},
   "outputs": [],
   "source": [
    "df_clean=df_clean.drop(col_to_remove_bis,axis=1)\n",
    "df_clean=df_clean.drop(col_to_remove,axis=1)"
   ]
  },
  {
   "cell_type": "code",
   "execution_count": 12,
   "metadata": {},
   "outputs": [
    {
     "data": {
      "text/plain": [
       "Index(['product_name', 'brands', 'countries', 'nutriscore_score',\n",
       "       'nutriscore_grade', 'nova_group', 'pnns_groups_1', 'pnns_groups_2',\n",
       "       'energy-kcal_100g', 'energy_100g', 'fat_100g', 'saturated-fat_100g',\n",
       "       'carbohydrates_100g', 'sugars_100g', 'proteins_100g', 'salt_100g',\n",
       "       'sodium_100g'],\n",
       "      dtype='object')"
      ]
     },
     "execution_count": 12,
     "metadata": {},
     "output_type": "execute_result"
    }
   ],
   "source": [
    "df_clean.columns"
   ]
  },
  {
   "cell_type": "markdown",
   "metadata": {},
   "source": [
    "Etude des valeurs nutritionnelles"
   ]
  },
  {
   "cell_type": "code",
   "execution_count": 13,
   "metadata": {},
   "outputs": [],
   "source": [
    "df_nutri=df_clean[df_clean.columns[df_clean.columns.str.contains('_100g')]]"
   ]
  },
  {
   "cell_type": "code",
   "execution_count": 14,
   "metadata": {},
   "outputs": [],
   "source": [
    "#suppression des valeurs nutritionnelles négatives\n",
    "idx_to_drop=[]\n",
    "for col in df_nutri.columns:\n",
    "    idx_neg=df_nutri[df_nutri[col]<0].index.tolist()\n",
    "    idx_to_drop.append(idx_neg)\n",
    "idx_to_drop=[i for sublist in idx_to_drop for i in sublist]\n",
    "idx_to_drop=set(idx_to_drop)\n",
    "df_nutri=df_nutri.drop(labels=idx_to_drop)"
   ]
  },
  {
   "cell_type": "code",
   "execution_count": 15,
   "metadata": {},
   "outputs": [],
   "source": [
    "#suppression des lignes ayant une énergie sup à 2000 kcal\n",
    "df_nutri=df_nutri.drop(labels=df_nutri[df_nutri['energy-kcal_100g']>2000].index.tolist())"
   ]
  },
  {
   "cell_type": "code",
   "execution_count": 16,
   "metadata": {},
   "outputs": [],
   "source": [
    "#suppression des lignes dont la somme des nutriments est supérieur à 100\n",
    "df_nutri=df_nutri.drop(labels=df_nutri[df_nutri[['fat_100g','carbohydrates_100g','proteins_100g','salt_100g']].sum(axis=1)>100].index.tolist())"
   ]
  },
  {
   "cell_type": "code",
   "execution_count": 17,
   "metadata": {},
   "outputs": [],
   "source": [
    "#suppression des lignes ne respectant pas les sous-catégories (ex:acides gras saturés supérieurs à total lipides)\n",
    "idx_to_drop=[]\n",
    "idx_to_drop.append(df_nutri[df_nutri['saturated-fat_100g']>df_nutri['fat_100g']].index.tolist())\n",
    "idx_to_drop.append(df_nutri[df_nutri['sugars_100g']>df_nutri['carbohydrates_100g']].index.tolist())\n",
    "idx_to_drop.append(df_nutri[df_nutri['sodium_100g']>df_nutri['salt_100g']].index.tolist())\n",
    "idx_to_drop=[i for sublist in idx_to_drop for i in sublist]\n",
    "df_nutri=df_nutri.drop(labels=idx_to_drop)"
   ]
  },
  {
   "cell_type": "code",
   "execution_count": 18,
   "metadata": {},
   "outputs": [],
   "source": [
    "#suppression des incohérences (Lipides, glucides ou protéines non nuls mais énergie nulle)\n",
    "idx_to_drop=df_nutri[(df_nutri['energy-kcal_100g']==0)&((df_nutri['fat_100g']!=0)|(df_nutri['carbohydrates_100g']!=0)|(df_nutri['proteins_100g']!=0))].index.tolist()\n",
    "df_nutri=df_nutri.drop(labels=idx_to_drop)"
   ]
  },
  {
   "cell_type": "code",
   "execution_count": 19,
   "metadata": {},
   "outputs": [
    {
     "data": {
      "text/html": [
       "<div>\n",
       "<style scoped>\n",
       "    .dataframe tbody tr th:only-of-type {\n",
       "        vertical-align: middle;\n",
       "    }\n",
       "\n",
       "    .dataframe tbody tr th {\n",
       "        vertical-align: top;\n",
       "    }\n",
       "\n",
       "    .dataframe thead th {\n",
       "        text-align: right;\n",
       "    }\n",
       "</style>\n",
       "<table border=\"1\" class=\"dataframe\">\n",
       "  <thead>\n",
       "    <tr style=\"text-align: right;\">\n",
       "      <th></th>\n",
       "      <th>energy-kcal_100g</th>\n",
       "      <th>energy_100g</th>\n",
       "      <th>fat_100g</th>\n",
       "      <th>saturated-fat_100g</th>\n",
       "      <th>carbohydrates_100g</th>\n",
       "      <th>sugars_100g</th>\n",
       "      <th>proteins_100g</th>\n",
       "      <th>salt_100g</th>\n",
       "      <th>sodium_100g</th>\n",
       "    </tr>\n",
       "  </thead>\n",
       "  <tbody>\n",
       "    <tr>\n",
       "      <th>energy-kcal_100g</th>\n",
       "      <td>1.000000</td>\n",
       "      <td>0.994862</td>\n",
       "      <td>0.735622</td>\n",
       "      <td>0.537864</td>\n",
       "      <td>0.410621</td>\n",
       "      <td>0.271407</td>\n",
       "      <td>0.203297</td>\n",
       "      <td>-0.035673</td>\n",
       "      <td>-0.035673</td>\n",
       "    </tr>\n",
       "    <tr>\n",
       "      <th>energy_100g</th>\n",
       "      <td>0.994862</td>\n",
       "      <td>1.000000</td>\n",
       "      <td>0.473378</td>\n",
       "      <td>0.344524</td>\n",
       "      <td>0.267011</td>\n",
       "      <td>0.175286</td>\n",
       "      <td>0.130851</td>\n",
       "      <td>-0.022439</td>\n",
       "      <td>-0.022439</td>\n",
       "    </tr>\n",
       "    <tr>\n",
       "      <th>fat_100g</th>\n",
       "      <td>0.735622</td>\n",
       "      <td>0.473378</td>\n",
       "      <td>1.000000</td>\n",
       "      <td>0.700889</td>\n",
       "      <td>-0.117044</td>\n",
       "      <td>-0.059351</td>\n",
       "      <td>0.149170</td>\n",
       "      <td>-0.009896</td>\n",
       "      <td>-0.009897</td>\n",
       "    </tr>\n",
       "    <tr>\n",
       "      <th>saturated-fat_100g</th>\n",
       "      <td>0.537864</td>\n",
       "      <td>0.344524</td>\n",
       "      <td>0.700889</td>\n",
       "      <td>1.000000</td>\n",
       "      <td>-0.062728</td>\n",
       "      <td>0.062608</td>\n",
       "      <td>0.146454</td>\n",
       "      <td>-0.012359</td>\n",
       "      <td>-0.012359</td>\n",
       "    </tr>\n",
       "    <tr>\n",
       "      <th>carbohydrates_100g</th>\n",
       "      <td>0.410621</td>\n",
       "      <td>0.267011</td>\n",
       "      <td>-0.117044</td>\n",
       "      <td>-0.062728</td>\n",
       "      <td>1.000000</td>\n",
       "      <td>0.677055</td>\n",
       "      <td>-0.200065</td>\n",
       "      <td>-0.085624</td>\n",
       "      <td>-0.085624</td>\n",
       "    </tr>\n",
       "    <tr>\n",
       "      <th>sugars_100g</th>\n",
       "      <td>0.271407</td>\n",
       "      <td>0.175286</td>\n",
       "      <td>-0.059351</td>\n",
       "      <td>0.062608</td>\n",
       "      <td>0.677055</td>\n",
       "      <td>1.000000</td>\n",
       "      <td>-0.271084</td>\n",
       "      <td>-0.105791</td>\n",
       "      <td>-0.105794</td>\n",
       "    </tr>\n",
       "    <tr>\n",
       "      <th>proteins_100g</th>\n",
       "      <td>0.203297</td>\n",
       "      <td>0.130851</td>\n",
       "      <td>0.149170</td>\n",
       "      <td>0.146454</td>\n",
       "      <td>-0.200065</td>\n",
       "      <td>-0.271084</td>\n",
       "      <td>1.000000</td>\n",
       "      <td>0.076922</td>\n",
       "      <td>0.076923</td>\n",
       "    </tr>\n",
       "    <tr>\n",
       "      <th>salt_100g</th>\n",
       "      <td>-0.035673</td>\n",
       "      <td>-0.022439</td>\n",
       "      <td>-0.009896</td>\n",
       "      <td>-0.012359</td>\n",
       "      <td>-0.085624</td>\n",
       "      <td>-0.105791</td>\n",
       "      <td>0.076922</td>\n",
       "      <td>1.000000</td>\n",
       "      <td>1.000000</td>\n",
       "    </tr>\n",
       "    <tr>\n",
       "      <th>sodium_100g</th>\n",
       "      <td>-0.035673</td>\n",
       "      <td>-0.022439</td>\n",
       "      <td>-0.009897</td>\n",
       "      <td>-0.012359</td>\n",
       "      <td>-0.085624</td>\n",
       "      <td>-0.105794</td>\n",
       "      <td>0.076923</td>\n",
       "      <td>1.000000</td>\n",
       "      <td>1.000000</td>\n",
       "    </tr>\n",
       "  </tbody>\n",
       "</table>\n",
       "</div>"
      ],
      "text/plain": [
       "                    energy-kcal_100g  energy_100g  fat_100g  \\\n",
       "energy-kcal_100g            1.000000     0.994862  0.735622   \n",
       "energy_100g                 0.994862     1.000000  0.473378   \n",
       "fat_100g                    0.735622     0.473378  1.000000   \n",
       "saturated-fat_100g          0.537864     0.344524  0.700889   \n",
       "carbohydrates_100g          0.410621     0.267011 -0.117044   \n",
       "sugars_100g                 0.271407     0.175286 -0.059351   \n",
       "proteins_100g               0.203297     0.130851  0.149170   \n",
       "salt_100g                  -0.035673    -0.022439 -0.009896   \n",
       "sodium_100g                -0.035673    -0.022439 -0.009897   \n",
       "\n",
       "                    saturated-fat_100g  carbohydrates_100g  sugars_100g  \\\n",
       "energy-kcal_100g              0.537864            0.410621     0.271407   \n",
       "energy_100g                   0.344524            0.267011     0.175286   \n",
       "fat_100g                      0.700889           -0.117044    -0.059351   \n",
       "saturated-fat_100g            1.000000           -0.062728     0.062608   \n",
       "carbohydrates_100g           -0.062728            1.000000     0.677055   \n",
       "sugars_100g                   0.062608            0.677055     1.000000   \n",
       "proteins_100g                 0.146454           -0.200065    -0.271084   \n",
       "salt_100g                    -0.012359           -0.085624    -0.105791   \n",
       "sodium_100g                  -0.012359           -0.085624    -0.105794   \n",
       "\n",
       "                    proteins_100g  salt_100g  sodium_100g  \n",
       "energy-kcal_100g         0.203297  -0.035673    -0.035673  \n",
       "energy_100g              0.130851  -0.022439    -0.022439  \n",
       "fat_100g                 0.149170  -0.009896    -0.009897  \n",
       "saturated-fat_100g       0.146454  -0.012359    -0.012359  \n",
       "carbohydrates_100g      -0.200065  -0.085624    -0.085624  \n",
       "sugars_100g             -0.271084  -0.105791    -0.105794  \n",
       "proteins_100g            1.000000   0.076922     0.076923  \n",
       "salt_100g                0.076922   1.000000     1.000000  \n",
       "sodium_100g              0.076923   1.000000     1.000000  "
      ]
     },
     "execution_count": 19,
     "metadata": {},
     "output_type": "execute_result"
    }
   ],
   "source": [
    "# Matrice de corrélation\n",
    "mat_corr=df_nutri.corr('pearson')\n",
    "mat_corr"
   ]
  },
  {
   "cell_type": "code",
   "execution_count": 20,
   "metadata": {},
   "outputs": [
    {
     "data": {
      "image/png": "[encoded data removed]",
      "text/plain": [
       "<Figure size 720x504 with 2 Axes>"
      ]
     },
     "metadata": {
      "needs_background": "light"
     },
     "output_type": "display_data"
    }
   ],
   "source": [
    "plt.figure(figsize=(10,7))\n",
    "sns.heatmap(mat_corr, annot=True, cmap = 'rocket_r');"
   ]
  },
  {
   "cell_type": "code",
   "execution_count": 21,
   "metadata": {},
   "outputs": [],
   "source": [
    "#Après ce nettoyage sur les valeurs nutritionnelles, on garde ces index dans le dataset df_clean\n",
    "df_clean=df_clean.loc[df_nutri.index]"
   ]
  },
  {
   "cell_type": "code",
   "execution_count": 22,
   "metadata": {},
   "outputs": [],
   "source": [
    "#Suppression des colonnes 'sodium_100g' et 'energy_100g' car très bien corrélées avec 'salt_100g' et 'energy-kcal_100g'\n",
    "df_clean=df_clean.drop(columns=['sodium_100g','energy_100g'],axis=1)"
   ]
  },
  {
   "cell_type": "code",
   "execution_count": 23,
   "metadata": {},
   "outputs": [
    {
     "data": {
      "text/plain": [
       "22216"
      ]
     },
     "execution_count": 23,
     "metadata": {},
     "output_type": "execute_result"
    }
   ],
   "source": [
    "len3=len(df_clean)\n",
    "len2-len3"
   ]
  },
  {
   "cell_type": "code",
   "execution_count": 24,
   "metadata": {},
   "outputs": [
    {
     "data": {
      "text/plain": [
       "Index(['product_name', 'brands', 'countries', 'nutriscore_score',\n",
       "       'nutriscore_grade', 'nova_group', 'pnns_groups_1', 'pnns_groups_2',\n",
       "       'energy-kcal_100g', 'fat_100g', 'saturated-fat_100g',\n",
       "       'carbohydrates_100g', 'sugars_100g', 'proteins_100g', 'salt_100g'],\n",
       "      dtype='object')"
      ]
     },
     "execution_count": 24,
     "metadata": {},
     "output_type": "execute_result"
    }
   ],
   "source": [
    "df_clean.columns"
   ]
  },
  {
   "cell_type": "markdown",
   "metadata": {},
   "source": [
    "# Imputation des valeurs nutritionnelles\n",
    "On teste 3 méthodes pour garder la plus efficace : Imputation par 0, par la médiane et imputation itérative"
   ]
  },
  {
   "cell_type": "code",
   "execution_count": 25,
   "metadata": {},
   "outputs": [],
   "source": [
    "df_nan=df_clean[df_clean[['energy-kcal_100g','fat_100g','saturated-fat_100g','carbohydrates_100g','sugars_100g','proteins_100g','salt_100g']].isna().sum(axis=1)>0]\n",
    "df_nan=df_nan[['energy-kcal_100g','fat_100g','saturated-fat_100g','carbohydrates_100g','sugars_100g','proteins_100g','salt_100g']]\n",
    "df_filled=df_clean.drop(df_nan.index)[['energy-kcal_100g','fat_100g','saturated-fat_100g','carbohydrates_100g','sugars_100g','proteins_100g','salt_100g']]"
   ]
  },
  {
   "cell_type": "code",
   "execution_count": 26,
   "metadata": {},
   "outputs": [],
   "source": [
    "from sklearn.experimental import enable_iterative_imputer\n",
    "from sklearn.impute import IterativeImputer\n",
    "from sklearn.impute import SimpleImputer"
   ]
  },
  {
   "cell_type": "code",
   "execution_count": 27,
   "metadata": {},
   "outputs": [],
   "source": [
    "# Définition des méthodes d'imputation\n",
    "zero_imputer=SimpleImputer(missing_values=np.nan,strategy='constant',fill_value=0)\n",
    "median_imputer=SimpleImputer(missing_values=np.nan,strategy='median')\n",
    "iter_imputer = IterativeImputer(random_state=0,min_value=0, max_value=[2000,100,100,100,100,100,100])"
   ]
  },
  {
   "cell_type": "code",
   "execution_count": 28,
   "metadata": {},
   "outputs": [],
   "source": [
    "# Méthode 1) : Imputation par 0\n",
    "zero_imputer.fit(df_clean[['energy-kcal_100g','fat_100g','saturated-fat_100g','carbohydrates_100g','sugars_100g','proteins_100g','salt_100g']])\n",
    "df_clean_zero=zero_imputer.transform(df_clean[['energy-kcal_100g','fat_100g','saturated-fat_100g','carbohydrates_100g','sugars_100g','proteins_100g','salt_100g']])\n",
    "df_clean_zero=pd.DataFrame(df_clean_zero,index=df_clean.index,columns=['energy-kcal_100g','fat_100g','saturated-fat_100g','carbohydrates_100g','sugars_100g','proteins_100g','salt_100g'])"
   ]
  },
  {
   "cell_type": "code",
   "execution_count": 29,
   "metadata": {},
   "outputs": [],
   "source": [
    "# Méthode 2) : Imputation par la médiane\n",
    "median_imputer.fit(df_clean[['energy-kcal_100g','fat_100g','saturated-fat_100g','carbohydrates_100g','sugars_100g','proteins_100g','salt_100g']])\n",
    "df_clean_median=median_imputer.transform(df_clean[['energy-kcal_100g','fat_100g','saturated-fat_100g','carbohydrates_100g','sugars_100g','proteins_100g','salt_100g']])\n",
    "df_clean_median=pd.DataFrame(df_clean_median,index=df_clean.index,columns=['energy-kcal_100g','fat_100g','saturated-fat_100g','carbohydrates_100g','sugars_100g','proteins_100g','salt_100g'])"
   ]
  },
  {
   "cell_type": "code",
   "execution_count": 30,
   "metadata": {},
   "outputs": [],
   "source": [
    "# Méthode 3) : Imputation itérative\n",
    "iter_imputer.fit(df_clean[['energy-kcal_100g','fat_100g','saturated-fat_100g','carbohydrates_100g','sugars_100g','proteins_100g','salt_100g']])\n",
    "df_clean_iter=iter_imputer.transform(df_clean[['energy-kcal_100g','fat_100g','saturated-fat_100g','carbohydrates_100g','sugars_100g','proteins_100g','salt_100g']])\n",
    "df_clean_iter=pd.DataFrame(df_clean_iter,index=df_clean.index,columns=['energy-kcal_100g','fat_100g','saturated-fat_100g','carbohydrates_100g','sugars_100g','proteins_100g','salt_100g'])"
   ]
  },
  {
   "cell_type": "code",
   "execution_count": 31,
   "metadata": {},
   "outputs": [],
   "source": [
    "# Test des méthodes sur les valeurs nutri\n",
    "# Ajout de valeurs manquantes aléatoirement dans le dataset des valeurs connues (df_filled)\n",
    "mat_nan=np.random.random(df_filled.shape)<0.2\n",
    "df_filled_nan=df_filled.mask(mat_nan)"
   ]
  },
  {
   "cell_type": "code",
   "execution_count": 32,
   "metadata": {},
   "outputs": [],
   "source": [
    "# Imputation via les 3 méthodes des valeurs supprimées aléatoirement\n",
    "df_filled_test_zero=zero_imputer.transform(df_filled_nan)\n",
    "df_filled_test_median=median_imputer.transform(df_filled_nan)\n",
    "df_filled_test_iter=iter_imputer.transform(df_filled_nan)"
   ]
  },
  {
   "cell_type": "code",
   "execution_count": 33,
   "metadata": {},
   "outputs": [
    {
     "name": "stdout",
     "output_type": "stream",
     "text": [
      "3406.489769633892\n",
      "1132.9692724133504\n",
      "327.53613175670336\n"
     ]
    }
   ],
   "source": [
    "# Calcul de l'erreur de chaque méthode en comparant les valeurs imputées aux valeurs réelles\n",
    "from sklearn.metrics import mean_squared_error\n",
    "print(mean_squared_error(df_filled,df_filled_test_zero))\n",
    "print(mean_squared_error(df_filled,df_filled_test_median))\n",
    "print(mean_squared_error(df_filled,df_filled_test_iter))"
   ]
  },
  {
   "cell_type": "code",
   "execution_count": 34,
   "metadata": {},
   "outputs": [],
   "source": [
    "# On garde la méthode iterative. Remplacement des valeurs imputées dans le dataset principal (df_clean)\n",
    "df_clean.loc[:,['energy-kcal_100g','fat_100g','saturated-fat_100g','carbohydrates_100g','sugars_100g','proteins_100g','salt_100g']]=df_clean_iter"
   ]
  },
  {
   "cell_type": "code",
   "execution_count": 35,
   "metadata": {},
   "outputs": [
    {
     "data": {
      "text/html": [
       "<div>\n",
       "<style scoped>\n",
       "    .dataframe tbody tr th:only-of-type {\n",
       "        vertical-align: middle;\n",
       "    }\n",
       "\n",
       "    .dataframe tbody tr th {\n",
       "        vertical-align: top;\n",
       "    }\n",
       "\n",
       "    .dataframe thead th {\n",
       "        text-align: right;\n",
       "    }\n",
       "</style>\n",
       "<table border=\"1\" class=\"dataframe\">\n",
       "  <thead>\n",
       "    <tr style=\"text-align: right;\">\n",
       "      <th></th>\n",
       "      <th>nutriscore_score</th>\n",
       "      <th>nova_group</th>\n",
       "      <th>energy-kcal_100g</th>\n",
       "      <th>fat_100g</th>\n",
       "      <th>saturated-fat_100g</th>\n",
       "      <th>carbohydrates_100g</th>\n",
       "      <th>sugars_100g</th>\n",
       "      <th>proteins_100g</th>\n",
       "      <th>salt_100g</th>\n",
       "    </tr>\n",
       "  </thead>\n",
       "  <tbody>\n",
       "    <tr>\n",
       "      <th>count</th>\n",
       "      <td>637388.000000</td>\n",
       "      <td>531365.000000</td>\n",
       "      <td>1.264277e+06</td>\n",
       "      <td>1.264277e+06</td>\n",
       "      <td>1.264277e+06</td>\n",
       "      <td>1.264277e+06</td>\n",
       "      <td>1.264277e+06</td>\n",
       "      <td>1.264277e+06</td>\n",
       "      <td>1.264277e+06</td>\n",
       "    </tr>\n",
       "    <tr>\n",
       "      <th>mean</th>\n",
       "      <td>9.137301</td>\n",
       "      <td>3.460188</td>\n",
       "      <td>2.775897e+02</td>\n",
       "      <td>1.379777e+01</td>\n",
       "      <td>5.089854e+00</td>\n",
       "      <td>2.789006e+01</td>\n",
       "      <td>1.313520e+01</td>\n",
       "      <td>8.712533e+00</td>\n",
       "      <td>1.217453e+00</td>\n",
       "    </tr>\n",
       "    <tr>\n",
       "      <th>std</th>\n",
       "      <td>8.869863</td>\n",
       "      <td>0.936248</td>\n",
       "      <td>1.946531e+02</td>\n",
       "      <td>1.743084e+01</td>\n",
       "      <td>7.615170e+00</td>\n",
       "      <td>2.779659e+01</td>\n",
       "      <td>1.933436e+01</td>\n",
       "      <td>9.691143e+00</td>\n",
       "      <td>3.785314e+00</td>\n",
       "    </tr>\n",
       "    <tr>\n",
       "      <th>min</th>\n",
       "      <td>-15.000000</td>\n",
       "      <td>1.000000</td>\n",
       "      <td>0.000000e+00</td>\n",
       "      <td>0.000000e+00</td>\n",
       "      <td>0.000000e+00</td>\n",
       "      <td>0.000000e+00</td>\n",
       "      <td>0.000000e+00</td>\n",
       "      <td>0.000000e+00</td>\n",
       "      <td>0.000000e+00</td>\n",
       "    </tr>\n",
       "    <tr>\n",
       "      <th>25%</th>\n",
       "      <td>2.000000</td>\n",
       "      <td>3.000000</td>\n",
       "      <td>1.090000e+02</td>\n",
       "      <td>9.100000e-01</td>\n",
       "      <td>1.000000e-01</td>\n",
       "      <td>3.500000e+00</td>\n",
       "      <td>6.000000e-01</td>\n",
       "      <td>1.540000e+00</td>\n",
       "      <td>8.250000e-02</td>\n",
       "    </tr>\n",
       "    <tr>\n",
       "      <th>50%</th>\n",
       "      <td>10.000000</td>\n",
       "      <td>4.000000</td>\n",
       "      <td>2.650000e+02</td>\n",
       "      <td>7.400000e+00</td>\n",
       "      <td>1.900000e+00</td>\n",
       "      <td>1.500000e+01</td>\n",
       "      <td>3.570000e+00</td>\n",
       "      <td>6.000000e+00</td>\n",
       "      <td>5.825000e-01</td>\n",
       "    </tr>\n",
       "    <tr>\n",
       "      <th>75%</th>\n",
       "      <td>16.000000</td>\n",
       "      <td>4.000000</td>\n",
       "      <td>4.000000e+02</td>\n",
       "      <td>2.143000e+01</td>\n",
       "      <td>7.140000e+00</td>\n",
       "      <td>5.283000e+01</td>\n",
       "      <td>1.800000e+01</td>\n",
       "      <td>1.250000e+01</td>\n",
       "      <td>1.400000e+00</td>\n",
       "    </tr>\n",
       "    <tr>\n",
       "      <th>max</th>\n",
       "      <td>40.000000</td>\n",
       "      <td>4.000000</td>\n",
       "      <td>2.000000e+03</td>\n",
       "      <td>1.000000e+02</td>\n",
       "      <td>1.000000e+02</td>\n",
       "      <td>1.000000e+02</td>\n",
       "      <td>1.000000e+02</td>\n",
       "      <td>1.000000e+02</td>\n",
       "      <td>1.000000e+02</td>\n",
       "    </tr>\n",
       "  </tbody>\n",
       "</table>\n",
       "</div>"
      ],
      "text/plain": [
       "       nutriscore_score     nova_group  energy-kcal_100g      fat_100g  \\\n",
       "count     637388.000000  531365.000000      1.264277e+06  1.264277e+06   \n",
       "mean           9.137301       3.460188      2.775897e+02  1.379777e+01   \n",
       "std            8.869863       0.936248      1.946531e+02  1.743084e+01   \n",
       "min          -15.000000       1.000000      0.000000e+00  0.000000e+00   \n",
       "25%            2.000000       3.000000      1.090000e+02  9.100000e-01   \n",
       "50%           10.000000       4.000000      2.650000e+02  7.400000e+00   \n",
       "75%           16.000000       4.000000      4.000000e+02  2.143000e+01   \n",
       "max           40.000000       4.000000      2.000000e+03  1.000000e+02   \n",
       "\n",
       "       saturated-fat_100g  carbohydrates_100g   sugars_100g  proteins_100g  \\\n",
       "count        1.264277e+06        1.264277e+06  1.264277e+06   1.264277e+06   \n",
       "mean         5.089854e+00        2.789006e+01  1.313520e+01   8.712533e+00   \n",
       "std          7.615170e+00        2.779659e+01  1.933436e+01   9.691143e+00   \n",
       "min          0.000000e+00        0.000000e+00  0.000000e+00   0.000000e+00   \n",
       "25%          1.000000e-01        3.500000e+00  6.000000e-01   1.540000e+00   \n",
       "50%          1.900000e+00        1.500000e+01  3.570000e+00   6.000000e+00   \n",
       "75%          7.140000e+00        5.283000e+01  1.800000e+01   1.250000e+01   \n",
       "max          1.000000e+02        1.000000e+02  1.000000e+02   1.000000e+02   \n",
       "\n",
       "          salt_100g  \n",
       "count  1.264277e+06  \n",
       "mean   1.217453e+00  \n",
       "std    3.785314e+00  \n",
       "min    0.000000e+00  \n",
       "25%    8.250000e-02  \n",
       "50%    5.825000e-01  \n",
       "75%    1.400000e+00  \n",
       "max    1.000000e+02  "
      ]
     },
     "execution_count": 35,
     "metadata": {},
     "output_type": "execute_result"
    }
   ],
   "source": [
    "# Description des valeurs quantitatives\n",
    "df_clean.describe()"
   ]
  },
  {
   "cell_type": "markdown",
   "metadata": {},
   "source": [
    "Suppression des variables inutiles pour optimiser la mémoire"
   ]
  },
  {
   "cell_type": "code",
   "execution_count": 36,
   "metadata": {},
   "outputs": [],
   "source": [
    "del df"
   ]
  },
  {
   "cell_type": "code",
   "execution_count": 37,
   "metadata": {},
   "outputs": [],
   "source": [
    "del zero_imputer,median_imputer,iter_imputer,df_clean_zero,df_clean_median,df_clean_iter,df_filled, df_filled_test_zero,df_filled_test_median,df_filled_test_iter,df_filled_nan,mat_nan"
   ]
  },
  {
   "cell_type": "code",
   "execution_count": 38,
   "metadata": {},
   "outputs": [
    {
     "data": {
      "text/plain": [
       "(1264277, 15)"
      ]
     },
     "execution_count": 38,
     "metadata": {},
     "output_type": "execute_result"
    }
   ],
   "source": [
    "df_clean.shape"
   ]
  },
  {
   "cell_type": "markdown",
   "metadata": {},
   "source": [
    "Nettoyage des valeurs 'string' pour homogénéisation"
   ]
  },
  {
   "cell_type": "code",
   "execution_count": 39,
   "metadata": {},
   "outputs": [],
   "source": [
    "# Mise en majuscule des nutriscores\n",
    "df_clean['nutriscore_grade']=df_clean['nutriscore_grade'].str.upper()"
   ]
  },
  {
   "cell_type": "code",
   "execution_count": 40,
   "metadata": {},
   "outputs": [],
   "source": [
    "# Nettoyage des catégories de produits (suppression de -)\n",
    "df_clean['pnns_groups_1'].replace('sugary-snacks', \"Sugary snacks\", inplace = True)\n",
    "df_clean['pnns_groups_1'].replace('fruits-and-vegetables', \"Fruits and vegetables\", inplace = True)\n",
    "df_clean['pnns_groups_1'].replace('cereals-and-potatoes', \"Cereals and potatoes\", inplace = True)\n",
    "df_clean['pnns_groups_1'].replace('salty-snacks', \"Salty snacks\", inplace = True)\n",
    "df_clean['pnns_groups_2'].replace('nuts', \"Nuts\", inplace = True)\n",
    "df_clean['pnns_groups_2'].replace('legumes', \"Legumes\", inplace = True)\n",
    "df_clean['pnns_groups_2'].replace('cereals', \"Cereals\", inplace = True)\n",
    "df_clean['pnns_groups_2'].replace('fruits', \"Fruits\", inplace = True)\n",
    "df_clean['pnns_groups_2'].replace('vegetables', \"Vegetables\", inplace = True)"
   ]
  },
  {
   "cell_type": "code",
   "execution_count": 41,
   "metadata": {},
   "outputs": [],
   "source": [
    "#Nettoyage des noms de pays\n",
    "df_clean['countries'].replace(['en:fr','en:france','en:FR','en:France','Francia','Frankreich'],\"France\", inplace = True)\n",
    "df_clean['countries'].replace(['en:us','en:United States'],\"United States\", inplace = True)\n",
    "df_clean['countries'].replace(['en:es','España','en:spain','en:spain'],\"Spain\", inplace = True)\n",
    "df_clean['countries'].replace(['en:it','Italia','en:Italy'],\"Italy\", inplace = True)\n",
    "df_clean['countries'].replace(['en:be','en:BE','Belgique','en:belgium'],\"Belgium\", inplace = True)\n",
    "df_clean['countries'].replace(['en:ch','en:CH','Suisse'],\"Switzerland\", inplace = True)\n",
    "df_clean['countries'].replace(['Deutschland','en:Germany','en:de'],\"Germany\", inplace = True)\n",
    "df_clean['countries'].replace(['en:ca'],\"Canada\", inplace = True)\n",
    "df_clean['countries'].replace(['en:gb', 'en:United Kingdom'],\"United Kingdom\", inplace = True)\n",
    "df_clean['countries'].replace(['México'],\"Mexico\", inplace = True)\n",
    "df_clean['countries'].replace(['en:au'],\"Australia\", inplace = True)\n",
    "df_clean['countries'].replace(['Polska'],\"Poland\", inplace = True)\n",
    "df_clean['countries'].replace(['en:ie'],\"Ireland\", inplace = True)"
   ]
  },
  {
   "cell_type": "markdown",
   "metadata": {},
   "source": [
    "Sauvegarde du dataset dans un fichier .csv pour le récupérer plus facilement"
   ]
  },
  {
   "cell_type": "code",
   "execution_count": 42,
   "metadata": {},
   "outputs": [],
   "source": [
    "df_clean.to_csv(r'C:\\Users\\BENAVEN\\Desktop\\Stevan\\Formation OCR\\Projet 3 - Concevez une application au service de la santé publique\\df_clean.csv')"
   ]
  },
  {
   "cell_type": "code",
   "execution_count": 43,
   "metadata": {},
   "outputs": [
    {
     "data": {
      "text/plain": [
       "array(['unknown', 'Dressings and sauces', 'One-dish meals',\n",
       "       'Biscuits and cakes', 'Fruits', 'Cheese', 'Meat', 'Bread',\n",
       "       'Fish and seafood', 'Salty and fatty products', 'Fruit juices',\n",
       "       'Sweets', 'Fats', 'Vegetables', 'Dairy desserts', 'pastries',\n",
       "       'Dried fruits', 'Pizza pies and quiche', 'Sweetened beverages',\n",
       "       'Unsweetened beverages', 'Nuts', 'Cereals', 'Appetizers',\n",
       "       'Breakfast cereals', 'Chocolate products', 'Milk and yogurt',\n",
       "       'Eggs', 'Plant-based milk substitutes', 'Processed meat',\n",
       "       'Sandwiches', 'Legumes', 'Teas and herbal teas and coffees',\n",
       "       'Soups', 'Potatoes', 'Artificially sweetened beverages',\n",
       "       'Ice cream', 'Alcoholic beverages', 'Offals',\n",
       "       'Waters and flavored waters', 'Fruit nectars',\n",
       "       'Pizza pies and quiches'], dtype=object)"
      ]
     },
     "execution_count": 43,
     "metadata": {},
     "output_type": "execute_result"
    }
   ],
   "source": [
    "df_clean['pnns_groups_2'].unique()"
   ]
  },
  {
   "cell_type": "code",
   "execution_count": null,
   "metadata": {},
   "outputs": [],
   "source": []
  }
 ],
 "metadata": {
  "kernelspec": {
   "display_name": "Python 3",
   "language": "python",
   "name": "python3"
  },
  "language_info": {
   "codemirror_mode": {
    "name": "ipython",
    "version": 3
   },
   "file_extension": ".py",
   "mimetype": "text/x-python",
   "name": "python",
   "nbconvert_exporter": "python",
   "pygments_lexer": "ipython3",
   "version": "3.8.5"
  }
 },
 "nbformat": 4,
 "nbformat_minor": 4
}
